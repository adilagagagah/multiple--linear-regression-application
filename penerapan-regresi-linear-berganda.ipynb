{
 "cells": [
  {
   "cell_type": "markdown",
   "id": "464c4404",
   "metadata": {
    "papermill": {
     "duration": 0.016871,
     "end_time": "2024-02-01T15:07:58.620239",
     "exception": false,
     "start_time": "2024-02-01T15:07:58.603368",
     "status": "completed"
    },
    "tags": []
   },
   "source": [
    "# Penerapan Analisis Regresi Linear Berganda"
   ]
  },
  {
   "cell_type": "markdown",
   "id": "7a8e4bf3",
   "metadata": {
    "papermill": {
     "duration": 0.015204,
     "end_time": "2024-02-01T15:07:58.651262",
     "exception": false,
     "start_time": "2024-02-01T15:07:58.636058",
     "status": "completed"
    },
    "tags": []
   },
   "source": [
    "Kasus : Ingin diketahui apakah terdapat pengaruh Indeks Pembangunan Manusia (IPM) dan Tingkat Partisipasi Angkatan Kerja (TPAK) terhadap Jumlah Penduduk Miskin di Kabupaten/Kota di Jawa Timur. \n",
    "\n",
    "Data : Diambil dari website resmi BPS Jawa Timur.\n",
    "\n",
    "Referensi : Dewanti, D. (2023). Metode Statistika Populer untuk Penelitian. Bogor: Exsight Analytics.\n",
    "\n"
   ]
  },
  {
   "cell_type": "markdown",
   "id": "085c8460",
   "metadata": {
    "papermill": {
     "duration": 0.014371,
     "end_time": "2024-02-01T15:07:58.681057",
     "exception": false,
     "start_time": "2024-02-01T15:07:58.666686",
     "status": "completed"
    },
    "tags": []
   },
   "source": [
    "# Import Packages"
   ]
  },
  {
   "cell_type": "code",
   "execution_count": 1,
   "id": "59367be9",
   "metadata": {
    "execution": {
     "iopub.execute_input": "2024-02-01T15:07:58.715967Z",
     "iopub.status.busy": "2024-02-01T15:07:58.714652Z",
     "iopub.status.idle": "2024-02-01T15:08:03.812177Z",
     "shell.execute_reply": "2024-02-01T15:08:03.811034Z"
    },
    "papermill": {
     "duration": 5.119085,
     "end_time": "2024-02-01T15:08:03.815685",
     "exception": false,
     "start_time": "2024-02-01T15:07:58.696600",
     "status": "completed"
    },
    "tags": []
   },
   "outputs": [
    {
     "name": "stdout",
     "output_type": "stream",
     "text": [
      "imported\n"
     ]
    }
   ],
   "source": [
    "import numpy as np\n",
    "import pandas as pd\n",
    "import matplotlib.pyplot as plt\n",
    "import seaborn as sns\n",
    "\n",
    "import statsmodels.api as sm #Modelling\n",
    "from statsmodels.stats.descriptivestats import Description # descriptive statistics\n",
    "from scipy.stats import shapiro # uji asumsi normalitas\n",
    "from statsmodels.stats.diagnostic import het_breuschpagan # uji asumsi homoskedastisitas\n",
    "from statsmodels.stats.stattools import durbin_watson # uji asumsi non-autokorelasi\n",
    "from statsmodels.stats.outliers_influence import variance_inflation_factor # uji multikolinearitas\n",
    "\n",
    "print('imported') # Checking"
   ]
  },
  {
   "cell_type": "markdown",
   "id": "a5dd08a1",
   "metadata": {
    "papermill": {
     "duration": 0.01527,
     "end_time": "2024-02-01T15:08:03.846104",
     "exception": false,
     "start_time": "2024-02-01T15:08:03.830834",
     "status": "completed"
    },
    "tags": []
   },
   "source": [
    "# Definisikan fungsi"
   ]
  },
  {
   "cell_type": "code",
   "execution_count": 2,
   "id": "c788bd05",
   "metadata": {
    "execution": {
     "iopub.execute_input": "2024-02-01T15:08:03.879511Z",
     "iopub.status.busy": "2024-02-01T15:08:03.878937Z",
     "iopub.status.idle": "2024-02-01T15:08:03.885751Z",
     "shell.execute_reply": "2024-02-01T15:08:03.884126Z"
    },
    "papermill": {
     "duration": 0.026919,
     "end_time": "2024-02-01T15:08:03.888369",
     "exception": false,
     "start_time": "2024-02-01T15:08:03.861450",
     "status": "completed"
    },
    "tags": []
   },
   "outputs": [],
   "source": [
    "def compare(pvalue, alpha=0.05):\n",
    "    if pvalue < alpha:\n",
    "        return '{:.3f} < {}, H0 ditolak'.format(pvalue, alpha)\n",
    "    else:\n",
    "        return '{:.3f} > {}, H0 gagal ditolak'.format(pvalue, alpha)\n",
    "    \n",
    "def sign(num):\n",
    "    return '-' if num < 0 else '+'"
   ]
  },
  {
   "cell_type": "markdown",
   "id": "2242b70f",
   "metadata": {
    "papermill": {
     "duration": 0.014615,
     "end_time": "2024-02-01T15:08:03.917474",
     "exception": false,
     "start_time": "2024-02-01T15:08:03.902859",
     "status": "completed"
    },
    "tags": []
   },
   "source": [
    "# Import Data"
   ]
  },
  {
   "cell_type": "code",
   "execution_count": 3,
   "id": "a73201ac",
   "metadata": {
    "execution": {
     "iopub.execute_input": "2024-02-01T15:08:03.951639Z",
     "iopub.status.busy": "2024-02-01T15:08:03.950434Z",
     "iopub.status.idle": "2024-02-01T15:08:04.002715Z",
     "shell.execute_reply": "2024-02-01T15:08:04.001812Z"
    },
    "papermill": {
     "duration": 0.070949,
     "end_time": "2024-02-01T15:08:04.004975",
     "exception": false,
     "start_time": "2024-02-01T15:08:03.934026",
     "status": "completed"
    },
    "tags": []
   },
   "outputs": [
    {
     "data": {
      "text/html": [
       "<div>\n",
       "<style scoped>\n",
       "    .dataframe tbody tr th:only-of-type {\n",
       "        vertical-align: middle;\n",
       "    }\n",
       "\n",
       "    .dataframe tbody tr th {\n",
       "        vertical-align: top;\n",
       "    }\n",
       "\n",
       "    .dataframe thead th {\n",
       "        text-align: right;\n",
       "    }\n",
       "</style>\n",
       "<table border=\"1\" class=\"dataframe\">\n",
       "  <thead>\n",
       "    <tr style=\"text-align: right;\">\n",
       "      <th></th>\n",
       "      <th>KaKot</th>\n",
       "      <th>JPM</th>\n",
       "      <th>IPM</th>\n",
       "      <th>TPAK</th>\n",
       "    </tr>\n",
       "  </thead>\n",
       "  <tbody>\n",
       "    <tr>\n",
       "      <th>0</th>\n",
       "      <td>PACITAN</td>\n",
       "      <td>92800</td>\n",
       "      <td>64.92</td>\n",
       "      <td>80.64</td>\n",
       "    </tr>\n",
       "    <tr>\n",
       "      <th>1</th>\n",
       "      <td>PONOROGO</td>\n",
       "      <td>103220</td>\n",
       "      <td>68.16</td>\n",
       "      <td>70.24</td>\n",
       "    </tr>\n",
       "    <tr>\n",
       "      <th>2</th>\n",
       "      <td>TRENGGALEK</td>\n",
       "      <td>92170</td>\n",
       "      <td>67.25</td>\n",
       "      <td>74.43</td>\n",
       "    </tr>\n",
       "    <tr>\n",
       "      <th>3</th>\n",
       "      <td>TULUNGAGUNG</td>\n",
       "      <td>87370</td>\n",
       "      <td>70.07</td>\n",
       "      <td>69.63</td>\n",
       "    </tr>\n",
       "    <tr>\n",
       "      <th>4</th>\n",
       "      <td>BLITAR</td>\n",
       "      <td>114120</td>\n",
       "      <td>68.13</td>\n",
       "      <td>67.57</td>\n",
       "    </tr>\n",
       "  </tbody>\n",
       "</table>\n",
       "</div>"
      ],
      "text/plain": [
       "         KaKot     JPM    IPM   TPAK\n",
       "0      PACITAN   92800  64.92  80.64\n",
       "1     PONOROGO  103220  68.16  70.24\n",
       "2   TRENGGALEK   92170  67.25  74.43\n",
       "3  TULUNGAGUNG   87370  70.07  69.63\n",
       "4       BLITAR  114120  68.13  67.57"
      ]
     },
     "execution_count": 3,
     "metadata": {},
     "output_type": "execute_result"
    }
   ],
   "source": [
    "df = pd.read_csv('/kaggle/input/ipm-tpak-dan-penduduk-miskin-di-kabkot-jawa-timur/data.csv')\n",
    "df.head(5)"
   ]
  },
  {
   "cell_type": "markdown",
   "id": "b5ebc6db",
   "metadata": {
    "papermill": {
     "duration": 0.014707,
     "end_time": "2024-02-01T15:08:04.035115",
     "exception": false,
     "start_time": "2024-02-01T15:08:04.020408",
     "status": "completed"
    },
    "tags": []
   },
   "source": [
    "# EDA"
   ]
  },
  {
   "cell_type": "markdown",
   "id": "aee0ce6b",
   "metadata": {
    "papermill": {
     "duration": 0.014022,
     "end_time": "2024-02-01T15:08:04.063464",
     "exception": false,
     "start_time": "2024-02-01T15:08:04.049442",
     "status": "completed"
    },
    "tags": []
   },
   "source": [
    "## Deskriptif"
   ]
  },
  {
   "cell_type": "code",
   "execution_count": 4,
   "id": "52be7af0",
   "metadata": {
    "execution": {
     "iopub.execute_input": "2024-02-01T15:08:04.096516Z",
     "iopub.status.busy": "2024-02-01T15:08:04.095368Z",
     "iopub.status.idle": "2024-02-01T15:08:04.181504Z",
     "shell.execute_reply": "2024-02-01T15:08:04.180103Z"
    },
    "papermill": {
     "duration": 0.106796,
     "end_time": "2024-02-01T15:08:04.184501",
     "exception": false,
     "start_time": "2024-02-01T15:08:04.077705",
     "status": "completed"
    },
    "tags": []
   },
   "outputs": [
    {
     "data": {
      "text/html": [
       "<table class=\"simpletable\">\n",
       "<caption>Descriptive Statistics</caption>\n",
       "<tr>\n",
       "  <th>nobs</th>                    <td>38.0</td>                <td>38.0</td>                  <td>38.0</td>         \n",
       "</tr>\n",
       "<tr>\n",
       "  <th>missing</th>                  <td>0.0</td>                 <td>0.0</td>                   <td>0.0</td>         \n",
       "</tr>\n",
       "<tr>\n",
       "  <th>mean</th>             <td>126048.68421052632</td>   <td>69.11315789473684</td>     <td>68.27131578947368</td>  \n",
       "</tr>\n",
       "<tr>\n",
       "  <th>std_err</th>          <td>12576.133728978066</td>  <td>0.8768692778735043</td>    <td>0.5494245238468677</td>  \n",
       "</tr>\n",
       "<tr>\n",
       "  <th>upper_ci</th>         <td>150697.45338408274</td>   <td>70.83179009851855</td>     <td>69.3481680684366</td>   \n",
       "</tr>\n",
       "<tr>\n",
       "  <th>lower_ci</th>          <td>101399.9150369699</td>   <td>67.39452569095513</td>     <td>67.19446351051074</td>  \n",
       "</tr>\n",
       "<tr>\n",
       "  <th>std</th>               <td>77524.49486212284</td>   <td>5.405385255296724</td>     <td>3.386880228376193</td>  \n",
       "</tr>\n",
       "<tr>\n",
       "  <th>iqr</th>                    <td>94272.5</td>        <td>7.362499999999997</td>    <td>3.6674999999999898</td>  \n",
       "</tr>\n",
       "<tr>\n",
       "  <th>iqr_normal</th>        <td>69884.30882203468</td>   <td>5.457829416873745</td>     <td>2.71872181818464</td>   \n",
       "</tr>\n",
       "<tr>\n",
       "  <th>mad</th>               <td>62120.78947368421</td>  <td>4.2954293628808875</td>    <td>2.4018421052631576</td>  \n",
       "</tr>\n",
       "<tr>\n",
       "  <th>mad_normal</th>        <td>77856.86366856833</td>  <td>5.3835223463387285</td>    <td>3.0102626661259393</td>  \n",
       "</tr>\n",
       "<tr>\n",
       "  <th>coef_var</th>         <td>0.6150361294739225</td>  <td>0.07821065365772209</td>   <td>0.04960912484564117</td> \n",
       "</tr>\n",
       "<tr>\n",
       "  <th>range</th>                 <td>285150.0</td>       <td>21.869999999999997</td>           <td>20.08</td>        \n",
       "</tr>\n",
       "<tr>\n",
       "  <th>max</th>                   <td>292870.0</td>              <td>80.05</td>                 <td>80.64</td>        \n",
       "</tr>\n",
       "<tr>\n",
       "  <th>min</th>                    <td>7720.0</td>               <td>58.18</td>                 <td>60.56</td>        \n",
       "</tr>\n",
       "<tr>\n",
       "  <th>skew</th>             <td>0.13043713176648958</td> <td>0.32933547631812277</td>   <td>1.0595716950953264</td>  \n",
       "</tr>\n",
       "<tr>\n",
       "  <th>kurtosis</th>         <td>2.2866979015936817</td>  <td>2.4580630890716155</td>     <td>6.426864319225087</td>  \n",
       "</tr>\n",
       "<tr>\n",
       "  <th>jarque_bera</th>      <td>0.9133541695274912</td>  <td>1.1519431455161198</td>     <td>25.70409897006403</td>  \n",
       "</tr>\n",
       "<tr>\n",
       "  <th>jarque_bera_pval</th> <td>0.6333848366576189</td>  <td>0.5621584255832548</td>  <td>2.6207514062469017e-06</td>\n",
       "</tr>\n",
       "<tr>\n",
       "  <th>mode</th>                   <td>7720.0</td>               <td>58.18</td>                 <td>60.56</td>        \n",
       "</tr>\n",
       "<tr>\n",
       "  <th>mode_freq</th>        <td>0.02631578947368421</td> <td>0.02631578947368421</td>   <td>0.02631578947368421</td> \n",
       "</tr>\n",
       "<tr>\n",
       "  <th>median</th>                <td>123915.0</td>             <td>68.615</td>                 <td>68.15</td>        \n",
       "</tr>\n",
       "<tr>\n",
       "  <th>1%</th>                     <td>8027.1</td>              <td>59.4047</td>         <td>61.688500000000005</td>  \n",
       "</tr>\n",
       "<tr>\n",
       "  <th>5%</th>                     <td>9298.0</td>        <td>62.246500000000005</td>    <td>63.924499999999995</td>  \n",
       "</tr>\n",
       "<tr>\n",
       "  <th>10%</th>                    <td>13176.0</td>             <td>63.034</td>                <td>64.627</td>        \n",
       "</tr>\n",
       "<tr>\n",
       "  <th>25%</th>                    <td>85397.5</td>              <td>64.95</td>           <td>66.14500000000001</td>  \n",
       "</tr>\n",
       "<tr>\n",
       "  <th>50%</th>                   <td>123915.0</td>             <td>68.615</td>                 <td>68.15</td>        \n",
       "</tr>\n",
       "<tr>\n",
       "  <th>75%</th>                   <td>179670.0</td>             <td>72.3125</td>               <td>69.8125</td>       \n",
       "</tr>\n",
       "<tr>\n",
       "  <th>90%</th>               <td>222876.0000000001</td>        <td>76.429</td>                <td>71.369</td>        \n",
       "</tr>\n",
       "<tr>\n",
       "  <th>95%</th>              <td>244728.49999999997</td>        <td>79.4715</td>               <td>73.104</td>        \n",
       "</tr>\n",
       "<tr>\n",
       "  <th>99%</th>               <td>284237.9000000001</td>        <td>79.8391</td>          <td>78.34230000000002</td>  \n",
       "</tr>\n",
       "</table>"
      ],
      "text/latex": [
       "\\begin{center}\n",
       "\\begin{tabular}{lccc}\n",
       "\\toprule\n",
       "\\textbf{nobs}               &         38.0        &         38.0        &          38.0           \\\\\n",
       "\\textbf{missing}            &         0.0         &         0.0         &          0.0            \\\\\n",
       "\\textbf{mean}               &  126048.68421052632 &  69.11315789473684  &   68.27131578947368     \\\\\n",
       "\\textbf{std\\_err}           &  12576.133728978066 &  0.8768692778735043 &   0.5494245238468677    \\\\\n",
       "\\textbf{upper\\_ci}          &  150697.45338408274 &  70.83179009851855  &    69.3481680684366     \\\\\n",
       "\\textbf{lower\\_ci}          &  101399.9150369699  &  67.39452569095513  &   67.19446351051074     \\\\\n",
       "\\textbf{std}                &  77524.49486212284  &  5.405385255296724  &   3.386880228376193     \\\\\n",
       "\\textbf{iqr}                &       94272.5       &  7.362499999999997  &   3.6674999999999898    \\\\\n",
       "\\textbf{iqr\\_normal}        &  69884.30882203468  &  5.457829416873745  &    2.71872181818464     \\\\\n",
       "\\textbf{mad}                &  62120.78947368421  &  4.2954293628808875 &   2.4018421052631576    \\\\\n",
       "\\textbf{mad\\_normal}        &  77856.86366856833  &  5.3835223463387285 &   3.0102626661259393    \\\\\n",
       "\\textbf{coef\\_var}          &  0.6150361294739225 & 0.07821065365772209 &  0.04960912484564117    \\\\\n",
       "\\textbf{range}              &       285150.0      &  21.869999999999997 &         20.08           \\\\\n",
       "\\textbf{max}                &       292870.0      &        80.05        &         80.64           \\\\\n",
       "\\textbf{min}                &        7720.0       &        58.18        &         60.56           \\\\\n",
       "\\textbf{skew}               & 0.13043713176648958 & 0.32933547631812277 &   1.0595716950953264    \\\\\n",
       "\\textbf{kurtosis}           &  2.2866979015936817 &  2.4580630890716155 &   6.426864319225087     \\\\\n",
       "\\textbf{jarque\\_bera}       &  0.9133541695274912 &  1.1519431455161198 &   25.70409897006403     \\\\\n",
       "\\textbf{jarque\\_bera\\_pval} &  0.6333848366576189 &  0.5621584255832548 & 2.6207514062469017e-06  \\\\\n",
       "\\textbf{mode}               &        7720.0       &        58.18        &         60.56           \\\\\n",
       "\\textbf{mode\\_freq}         & 0.02631578947368421 & 0.02631578947368421 &  0.02631578947368421    \\\\\n",
       "\\textbf{median}             &       123915.0      &        68.615       &         68.15           \\\\\n",
       "\\textbf{1\\%}                &        8027.1       &       59.4047       &   61.688500000000005    \\\\\n",
       "\\textbf{5\\%}                &        9298.0       &  62.246500000000005 &   63.924499999999995    \\\\\n",
       "\\textbf{10\\%}               &       13176.0       &        63.034       &         64.627          \\\\\n",
       "\\textbf{25\\%}               &       85397.5       &        64.95        &   66.14500000000001     \\\\\n",
       "\\textbf{50\\%}               &       123915.0      &        68.615       &         68.15           \\\\\n",
       "\\textbf{75\\%}               &       179670.0      &       72.3125       &        69.8125          \\\\\n",
       "\\textbf{90\\%}               &  222876.0000000001  &        76.429       &         71.369          \\\\\n",
       "\\textbf{95\\%}               &  244728.49999999997 &       79.4715       &         73.104          \\\\\n",
       "\\textbf{99\\%}               &  284237.9000000001  &       79.8391       &   78.34230000000002     \\\\\n",
       "\\bottomrule\n",
       "\\end{tabular}\n",
       "%\\caption{Descriptive Statistics}\n",
       "\\end{center}"
      ],
      "text/plain": [
       "<class 'statsmodels.iolib.table.SimpleTable'>"
      ]
     },
     "execution_count": 4,
     "metadata": {},
     "output_type": "execute_result"
    }
   ],
   "source": [
    "Description(data=df).summary()"
   ]
  },
  {
   "cell_type": "markdown",
   "id": "39e64954",
   "metadata": {
    "papermill": {
     "duration": 0.018758,
     "end_time": "2024-02-01T15:08:04.219736",
     "exception": false,
     "start_time": "2024-02-01T15:08:04.200978",
     "status": "completed"
    },
    "tags": []
   },
   "source": [
    "## Histogram dan distribusi data"
   ]
  },
  {
   "cell_type": "code",
   "execution_count": 5,
   "id": "60659e2e",
   "metadata": {
    "execution": {
     "iopub.execute_input": "2024-02-01T15:08:04.330015Z",
     "iopub.status.busy": "2024-02-01T15:08:04.329526Z",
     "iopub.status.idle": "2024-02-01T15:08:05.241470Z",
     "shell.execute_reply": "2024-02-01T15:08:05.240251Z"
    },
    "papermill": {
     "duration": 0.935086,
     "end_time": "2024-02-01T15:08:05.244982",
     "exception": false,
     "start_time": "2024-02-01T15:08:04.309896",
     "status": "completed"
    },
    "tags": []
   },
   "outputs": [
    {
     "data": {
      "image/png": "[encoded data removed]",
      "text/plain": [
       "<Figure size 1500x300 with 3 Axes>"
      ]
     },
     "metadata": {},
     "output_type": "display_data"
    }
   ],
   "source": [
    "plt.figure(figsize=(15,3))\n",
    "\n",
    "plt.subplot(1, 3, 1)\n",
    "sns.histplot(df.JPM, kde=True, color='skyblue')\n",
    "plt.subplot(1, 3, 2)\n",
    "sns.histplot(df.IPM, kde=True, color='skyblue')\n",
    "plt.subplot(1, 3, 3)\n",
    "sns.histplot(df.TPAK, kde=True, color='skyblue')\n",
    "\n",
    "# Menampilkan histogram\n",
    "plt.show()"
   ]
  },
  {
   "cell_type": "markdown",
   "id": "0de18167",
   "metadata": {
    "papermill": {
     "duration": 0.01628,
     "end_time": "2024-02-01T15:08:05.278193",
     "exception": false,
     "start_time": "2024-02-01T15:08:05.261913",
     "status": "completed"
    },
    "tags": []
   },
   "source": [
    "## Pair Plot"
   ]
  },
  {
   "cell_type": "code",
   "execution_count": 6,
   "id": "44c649f0",
   "metadata": {
    "execution": {
     "iopub.execute_input": "2024-02-01T15:08:05.314672Z",
     "iopub.status.busy": "2024-02-01T15:08:05.314003Z",
     "iopub.status.idle": "2024-02-01T15:08:09.722223Z",
     "shell.execute_reply": "2024-02-01T15:08:09.721016Z"
    },
    "papermill": {
     "duration": 4.430146,
     "end_time": "2024-02-01T15:08:09.725181",
     "exception": false,
     "start_time": "2024-02-01T15:08:05.295035",
     "status": "completed"
    },
    "tags": []
   },
   "outputs": [
    {
     "data": {
      "image/png": "[encoded data removed]",
      "text/plain": [
       "<Figure size 750x750 with 12 Axes>"
      ]
     },
     "metadata": {},
     "output_type": "display_data"
    }
   ],
   "source": [
    "sns.pairplot(df, kind='reg');"
   ]
  },
  {
   "cell_type": "markdown",
   "id": "f15e07d3",
   "metadata": {
    "papermill": {
     "duration": 0.018621,
     "end_time": "2024-02-01T15:08:09.763644",
     "exception": false,
     "start_time": "2024-02-01T15:08:09.745023",
     "status": "completed"
    },
    "tags": []
   },
   "source": [
    "## Correlation Matrix\n",
    "\n",
    "digunakan untuk mengevaluasi hubungan antara dua variabel dalam suatu kumpulan data. Nilai 1 dianggap hubungan antar variabel kuat positif, 0 dianggap tidak ada hubungan, dan -1 dianggap hubungan kuat negatif.\n",
    "\n",
    "diketahui bahwa kedua variabel merupakan data berskala rasio dan berasal dari dua sumber yang berbeda atau tidak berpasangan sehingga pengujian hipotesis korelasi antar variabel dapat dilakukan menggunakan uji Pearson atau Spearman tergantung dari distribusi data. Jika kedua variabel berdistribusi normal, maka pengujian akan dilakukan menggunakan uji Pearson. Jika tidak, maka akan digunakan uji Spearman.\n",
    "\n",
    "- Uji Pearson  : statistika parametrik, data berpasangan maupun tidak, harus memenuhi asumsi normalitas, data berskala interval atau rasio\n",
    "- Uji Spearman : statistika non parametrik, berasal dari sumber yang berbeda atau tidak berpasangan, tidak perlu berdistribusi normal, data berskala interval atau rasio, bisa digunakan untuk data berskala ordinal\n",
    "\n",
    "sehingga dilakukan uji normalitas untuk masing-masing variabel <br>\n",
    "H0 : data berdistribusi normal <br>\n",
    "H1 : data tidak berdistribusi normal\n",
    "\n",
    "dengan α = 0.05 <br>\n",
    "tolak H0 jika p-value < α"
   ]
  },
  {
   "cell_type": "code",
   "execution_count": 7,
   "id": "20dd41a7",
   "metadata": {
    "execution": {
     "iopub.execute_input": "2024-02-01T15:08:09.801645Z",
     "iopub.status.busy": "2024-02-01T15:08:09.800572Z",
     "iopub.status.idle": "2024-02-01T15:08:09.811176Z",
     "shell.execute_reply": "2024-02-01T15:08:09.809120Z"
    },
    "papermill": {
     "duration": 0.032952,
     "end_time": "2024-02-01T15:08:09.813964",
     "exception": false,
     "start_time": "2024-02-01T15:08:09.781012",
     "status": "completed"
    },
    "tags": []
   },
   "outputs": [
    {
     "name": "stdout",
     "output_type": "stream",
     "text": [
      "JPM : nilai statistic sebesar: 0.9635\n",
      "JPM : nilai pvalue sebesar: 0.2466\n",
      "keputusan : 0.247 > 0.05, H0 gagal ditolak\n",
      "\n",
      "IPM : nilai statistic sebesar: 0.9711\n",
      "IPM : nilai pvalue sebesar: 0.4232\n",
      "keputusan : 0.423 > 0.05, H0 gagal ditolak\n",
      "\n",
      "TPAK : nilai statistic sebesar: 0.9238\n",
      "TPAK : nilai pvalue sebesar: 0.0128\n",
      "keputusan : 0.013 < 0.05, H0 ditolak\n",
      "\n"
     ]
    }
   ],
   "source": [
    "for i in df.drop(columns=['KaKot']).columns:\n",
    "    statistic, pvalue = shapiro(df[i])\n",
    "    print('{} : nilai statistic sebesar: {:.4f}'.format(i, statistic))\n",
    "    print('{} : nilai pvalue sebesar: {:.4f}'.format(i, pvalue))\n",
    "    print('keputusan : {}\\n'.format(compare(pvalue)))"
   ]
  },
  {
   "cell_type": "markdown",
   "id": "c7a1eff3",
   "metadata": {
    "papermill": {
     "duration": 0.017496,
     "end_time": "2024-02-01T15:08:09.849999",
     "exception": false,
     "start_time": "2024-02-01T15:08:09.832503",
     "status": "completed"
    },
    "tags": []
   },
   "source": [
    "kesimpulan : \n",
    "- Nilai p-value untuk data JPM bernilai (0.247) > 0.05 menandakan data JPM **beridistribusi normal**.\n",
    "- Nilai p-value untuk data IPM bernilai (0.423) > 0.05 menandakan data IPM **beridistribusi normal**. \n",
    "- Nilai p-value untuk data TPAK bernilai (0.013) < 0.05 menandakan data TPAK **tidak beridistribusi normal**. \n",
    "\n",
    "Karena salah satu variabel tidak berdistribusi normal maka digunakan Uji Korelasi Spearman."
   ]
  },
  {
   "cell_type": "code",
   "execution_count": 8,
   "id": "adb75dab",
   "metadata": {
    "execution": {
     "iopub.execute_input": "2024-02-01T15:08:09.887674Z",
     "iopub.status.busy": "2024-02-01T15:08:09.887223Z",
     "iopub.status.idle": "2024-02-01T15:08:10.263427Z",
     "shell.execute_reply": "2024-02-01T15:08:10.262080Z"
    },
    "papermill": {
     "duration": 0.399581,
     "end_time": "2024-02-01T15:08:10.267185",
     "exception": false,
     "start_time": "2024-02-01T15:08:09.867604",
     "status": "completed"
    },
    "tags": []
   },
   "outputs": [
    {
     "data": {
      "image/png": "[encoded data removed]",
      "text/plain": [
       "<Figure size 300x300 with 2 Axes>"
      ]
     },
     "metadata": {},
     "output_type": "display_data"
    }
   ],
   "source": [
    "corr_matrix = df.drop(columns=['KaKot']).corr(method='spearman')\n",
    "plt.figure(figsize=(3,3))\n",
    "sns.heatmap(corr_matrix, annot=True);"
   ]
  },
  {
   "cell_type": "markdown",
   "id": "9b6559b9",
   "metadata": {
    "papermill": {
     "duration": 0.019059,
     "end_time": "2024-02-01T15:08:10.306240",
     "exception": false,
     "start_time": "2024-02-01T15:08:10.287181",
     "status": "completed"
    },
    "tags": []
   },
   "source": [
    "dapat dilihat bahwa :\n",
    "- Nilai dari Spearman Correlation untuk Indeks Pembangunan Manusia (IPM) terhadap Jumlah Penduduk Miskin (JPM) sebesar -0.63, artinya bahwa hubungan antara IPM dengan JPM **berkorelasi negatif sedang**. Maka, ketika terdapat kenaikan IPM di suatu kabupaten/kota di Jawa Timur akan menyebabkan cukup banyak turunnya Jumlah Penduduk Miskin.\n",
    "- Nilai dari Spearman Correlation untuk Tingkat Partisipasi Angkatan Kerja (TPAK) terhadap Jumlah Penduduk Miskin (JPM) sebesar -0.074, artinya bahwa hubungan antara IPM dengan JPM **berkorelasi negatif secara lemah**. Maka, ketika terdapat kenaikan TPAK di suatu kabupaten/kota di Jawa Timur akan menyebabkan sedikit turunnya Jumlah Penduduk Miskin."
   ]
  },
  {
   "cell_type": "markdown",
   "id": "7ff9313c",
   "metadata": {
    "papermill": {
     "duration": 0.018129,
     "end_time": "2024-02-01T15:08:10.343334",
     "exception": false,
     "start_time": "2024-02-01T15:08:10.325205",
     "status": "completed"
    },
    "tags": []
   },
   "source": [
    "# Modelling"
   ]
  },
  {
   "cell_type": "code",
   "execution_count": 9,
   "id": "d4ca1089",
   "metadata": {
    "execution": {
     "iopub.execute_input": "2024-02-01T15:08:10.380674Z",
     "iopub.status.busy": "2024-02-01T15:08:10.380252Z",
     "iopub.status.idle": "2024-02-01T15:08:10.387897Z",
     "shell.execute_reply": "2024-02-01T15:08:10.386686Z"
    },
    "papermill": {
     "duration": 0.02976,
     "end_time": "2024-02-01T15:08:10.390733",
     "exception": false,
     "start_time": "2024-02-01T15:08:10.360973",
     "status": "completed"
    },
    "tags": []
   },
   "outputs": [],
   "source": [
    "X = np.array(df[['IPM','TPAK']])\n",
    "Y = np.array(df['JPM'])"
   ]
  },
  {
   "cell_type": "code",
   "execution_count": 10,
   "id": "e7def903",
   "metadata": {
    "execution": {
     "iopub.execute_input": "2024-02-01T15:08:10.429717Z",
     "iopub.status.busy": "2024-02-01T15:08:10.429280Z",
     "iopub.status.idle": "2024-02-01T15:08:10.439480Z",
     "shell.execute_reply": "2024-02-01T15:08:10.437995Z"
    },
    "papermill": {
     "duration": 0.033596,
     "end_time": "2024-02-01T15:08:10.442552",
     "exception": false,
     "start_time": "2024-02-01T15:08:10.408956",
     "status": "completed"
    },
    "tags": []
   },
   "outputs": [
    {
     "data": {
      "text/plain": [
       "array([[64.92, 80.64],\n",
       "       [68.16, 70.24],\n",
       "       [67.25, 74.43]])"
      ]
     },
     "execution_count": 10,
     "metadata": {},
     "output_type": "execute_result"
    }
   ],
   "source": [
    "#preview\n",
    "X[:3]"
   ]
  },
  {
   "cell_type": "code",
   "execution_count": 11,
   "id": "40145ea4",
   "metadata": {
    "execution": {
     "iopub.execute_input": "2024-02-01T15:08:10.482131Z",
     "iopub.status.busy": "2024-02-01T15:08:10.481646Z",
     "iopub.status.idle": "2024-02-01T15:08:10.489337Z",
     "shell.execute_reply": "2024-02-01T15:08:10.488111Z"
    },
    "papermill": {
     "duration": 0.030103,
     "end_time": "2024-02-01T15:08:10.492031",
     "exception": false,
     "start_time": "2024-02-01T15:08:10.461928",
     "status": "completed"
    },
    "tags": []
   },
   "outputs": [
    {
     "data": {
      "text/plain": [
       "array([[ 1.  , 64.92, 80.64],\n",
       "       [ 1.  , 68.16, 70.24],\n",
       "       [ 1.  , 67.25, 74.43]])"
      ]
     },
     "execution_count": 11,
     "metadata": {},
     "output_type": "execute_result"
    }
   ],
   "source": [
    "# Perlu ditambahkan nilai konstanta di kolom pertama\n",
    "X = sm.add_constant(X)\n",
    "X[:3]"
   ]
  },
  {
   "cell_type": "code",
   "execution_count": 12,
   "id": "1e888f39",
   "metadata": {
    "execution": {
     "iopub.execute_input": "2024-02-01T15:08:10.531365Z",
     "iopub.status.busy": "2024-02-01T15:08:10.530956Z",
     "iopub.status.idle": "2024-02-01T15:08:10.568220Z",
     "shell.execute_reply": "2024-02-01T15:08:10.566798Z"
    },
    "papermill": {
     "duration": 0.059864,
     "end_time": "2024-02-01T15:08:10.570625",
     "exception": false,
     "start_time": "2024-02-01T15:08:10.510761",
     "status": "completed"
    },
    "tags": []
   },
   "outputs": [
    {
     "data": {
      "text/html": [
       "<table class=\"simpletable\">\n",
       "<caption>OLS Regression Results</caption>\n",
       "<tr>\n",
       "  <th>Dep. Variable:</th>            <td>y</td>        <th>  R-squared:         </th> <td>   0.463</td>\n",
       "</tr>\n",
       "<tr>\n",
       "  <th>Model:</th>                   <td>OLS</td>       <th>  Adj. R-squared:    </th> <td>   0.433</td>\n",
       "</tr>\n",
       "<tr>\n",
       "  <th>Method:</th>             <td>Least Squares</td>  <th>  F-statistic:       </th> <td>   15.12</td>\n",
       "</tr>\n",
       "<tr>\n",
       "  <th>Date:</th>             <td>Thu, 01 Feb 2024</td> <th>  Prob (F-statistic):</th> <td>1.85e-05</td>\n",
       "</tr>\n",
       "<tr>\n",
       "  <th>Time:</th>                 <td>15:08:10</td>     <th>  Log-Likelihood:    </th> <td> -469.40</td>\n",
       "</tr>\n",
       "<tr>\n",
       "  <th>No. Observations:</th>      <td>    38</td>      <th>  AIC:               </th> <td>   944.8</td>\n",
       "</tr>\n",
       "<tr>\n",
       "  <th>Df Residuals:</th>          <td>    35</td>      <th>  BIC:               </th> <td>   949.7</td>\n",
       "</tr>\n",
       "<tr>\n",
       "  <th>Df Model:</th>              <td>     2</td>      <th>                     </th>     <td> </td>   \n",
       "</tr>\n",
       "<tr>\n",
       "  <th>Covariance Type:</th>      <td>nonrobust</td>    <th>                     </th>     <td> </td>   \n",
       "</tr>\n",
       "</table>\n",
       "<table class=\"simpletable\">\n",
       "<tr>\n",
       "    <td></td>       <th>coef</th>     <th>std err</th>      <th>t</th>      <th>P>|t|</th>  <th>[0.025</th>    <th>0.975]</th>  \n",
       "</tr>\n",
       "<tr>\n",
       "  <th>const</th> <td> 1.281e+06</td> <td> 2.75e+05</td> <td>    4.662</td> <td> 0.000</td> <td> 7.23e+05</td> <td> 1.84e+06</td>\n",
       "</tr>\n",
       "<tr>\n",
       "  <th>x1</th>    <td>-1.027e+04</td> <td> 1874.133</td> <td>   -5.480</td> <td> 0.000</td> <td>-1.41e+04</td> <td>-6465.583</td>\n",
       "</tr>\n",
       "<tr>\n",
       "  <th>x2</th>    <td>-6519.5877</td> <td> 2991.075</td> <td>   -2.180</td> <td> 0.036</td> <td>-1.26e+04</td> <td> -447.383</td>\n",
       "</tr>\n",
       "</table>\n",
       "<table class=\"simpletable\">\n",
       "<tr>\n",
       "  <th>Omnibus:</th>       <td> 1.285</td> <th>  Durbin-Watson:     </th> <td>   1.888</td>\n",
       "</tr>\n",
       "<tr>\n",
       "  <th>Prob(Omnibus):</th> <td> 0.526</td> <th>  Jarque-Bera (JB):  </th> <td>   0.946</td>\n",
       "</tr>\n",
       "<tr>\n",
       "  <th>Skew:</th>          <td> 0.384</td> <th>  Prob(JB):          </th> <td>   0.623</td>\n",
       "</tr>\n",
       "<tr>\n",
       "  <th>Kurtosis:</th>      <td> 2.915</td> <th>  Cond. No.          </th> <td>2.82e+03</td>\n",
       "</tr>\n",
       "</table><br/><br/>Notes:<br/>[1] Standard Errors assume that the covariance matrix of the errors is correctly specified.<br/>[2] The condition number is large, 2.82e+03. This might indicate that there are<br/>strong multicollinearity or other numerical problems."
      ],
      "text/latex": [
       "\\begin{center}\n",
       "\\begin{tabular}{lclc}\n",
       "\\toprule\n",
       "\\textbf{Dep. Variable:}    &        y         & \\textbf{  R-squared:         } &     0.463   \\\\\n",
       "\\textbf{Model:}            &       OLS        & \\textbf{  Adj. R-squared:    } &     0.433   \\\\\n",
       "\\textbf{Method:}           &  Least Squares   & \\textbf{  F-statistic:       } &     15.12   \\\\\n",
       "\\textbf{Date:}             & Thu, 01 Feb 2024 & \\textbf{  Prob (F-statistic):} &  1.85e-05   \\\\\n",
       "\\textbf{Time:}             &     15:08:10     & \\textbf{  Log-Likelihood:    } &   -469.40   \\\\\n",
       "\\textbf{No. Observations:} &          38      & \\textbf{  AIC:               } &     944.8   \\\\\n",
       "\\textbf{Df Residuals:}     &          35      & \\textbf{  BIC:               } &     949.7   \\\\\n",
       "\\textbf{Df Model:}         &           2      & \\textbf{                     } &             \\\\\n",
       "\\textbf{Covariance Type:}  &    nonrobust     & \\textbf{                     } &             \\\\\n",
       "\\bottomrule\n",
       "\\end{tabular}\n",
       "\\begin{tabular}{lcccccc}\n",
       "               & \\textbf{coef} & \\textbf{std err} & \\textbf{t} & \\textbf{P$> |$t$|$} & \\textbf{[0.025} & \\textbf{0.975]}  \\\\\n",
       "\\midrule\n",
       "\\textbf{const} &    1.281e+06  &     2.75e+05     &     4.662  &         0.000        &     7.23e+05    &     1.84e+06     \\\\\n",
       "\\textbf{x1}    &   -1.027e+04  &     1874.133     &    -5.480  &         0.000        &    -1.41e+04    &    -6465.583     \\\\\n",
       "\\textbf{x2}    &   -6519.5877  &     2991.075     &    -2.180  &         0.036        &    -1.26e+04    &     -447.383     \\\\\n",
       "\\bottomrule\n",
       "\\end{tabular}\n",
       "\\begin{tabular}{lclc}\n",
       "\\textbf{Omnibus:}       &  1.285 & \\textbf{  Durbin-Watson:     } &    1.888  \\\\\n",
       "\\textbf{Prob(Omnibus):} &  0.526 & \\textbf{  Jarque-Bera (JB):  } &    0.946  \\\\\n",
       "\\textbf{Skew:}          &  0.384 & \\textbf{  Prob(JB):          } &    0.623  \\\\\n",
       "\\textbf{Kurtosis:}      &  2.915 & \\textbf{  Cond. No.          } & 2.82e+03  \\\\\n",
       "\\bottomrule\n",
       "\\end{tabular}\n",
       "%\\caption{OLS Regression Results}\n",
       "\\end{center}\n",
       "\n",
       "Notes: \\newline\n",
       " [1] Standard Errors assume that the covariance matrix of the errors is correctly specified. \\newline\n",
       " [2] The condition number is large, 2.82e+03. This might indicate that there are \\newline\n",
       " strong multicollinearity or other numerical problems."
      ],
      "text/plain": [
       "<class 'statsmodels.iolib.summary.Summary'>\n",
       "\"\"\"\n",
       "                            OLS Regression Results                            \n",
       "==============================================================================\n",
       "Dep. Variable:                      y   R-squared:                       0.463\n",
       "Model:                            OLS   Adj. R-squared:                  0.433\n",
       "Method:                 Least Squares   F-statistic:                     15.12\n",
       "Date:                Thu, 01 Feb 2024   Prob (F-statistic):           1.85e-05\n",
       "Time:                        15:08:10   Log-Likelihood:                -469.40\n",
       "No. Observations:                  38   AIC:                             944.8\n",
       "Df Residuals:                      35   BIC:                             949.7\n",
       "Df Model:                           2                                         \n",
       "Covariance Type:            nonrobust                                         \n",
       "==============================================================================\n",
       "                 coef    std err          t      P>|t|      [0.025      0.975]\n",
       "------------------------------------------------------------------------------\n",
       "const       1.281e+06   2.75e+05      4.662      0.000    7.23e+05    1.84e+06\n",
       "x1         -1.027e+04   1874.133     -5.480      0.000   -1.41e+04   -6465.583\n",
       "x2         -6519.5877   2991.075     -2.180      0.036   -1.26e+04    -447.383\n",
       "==============================================================================\n",
       "Omnibus:                        1.285   Durbin-Watson:                   1.888\n",
       "Prob(Omnibus):                  0.526   Jarque-Bera (JB):                0.946\n",
       "Skew:                           0.384   Prob(JB):                        0.623\n",
       "Kurtosis:                       2.915   Cond. No.                     2.82e+03\n",
       "==============================================================================\n",
       "\n",
       "Notes:\n",
       "[1] Standard Errors assume that the covariance matrix of the errors is correctly specified.\n",
       "[2] The condition number is large, 2.82e+03. This might indicate that there are\n",
       "strong multicollinearity or other numerical problems.\n",
       "\"\"\""
      ]
     },
     "execution_count": 12,
     "metadata": {},
     "output_type": "execute_result"
    }
   ],
   "source": [
    "model = sm.OLS(Y, X).fit()\n",
    "model.summary()"
   ]
  },
  {
   "cell_type": "markdown",
   "id": "4de18880",
   "metadata": {
    "papermill": {
     "duration": 0.020255,
     "end_time": "2024-02-01T15:08:10.610905",
     "exception": false,
     "start_time": "2024-02-01T15:08:10.590650",
     "status": "completed"
    },
    "tags": []
   },
   "source": [
    "# Uji Asumsi Klasik\n",
    "Sebelum dilakukan Uji Hipotesis dan Interpretasi Model, akan dilakukan Uji Asumsi terhadap **residual** model. Uji Asumsi meliputi:\n",
    "- Asumsi Normalitas\n",
    "- Asumsi Homoskedastisitas\n",
    "- Asumsi Non-Autokorelasi\n",
    "- Asumsi Non-Multikolinearitas\n",
    "\n",
    "references : https://www.statsmodels.org/stable/diagnostic.html#diagnostics"
   ]
  },
  {
   "cell_type": "markdown",
   "id": "29dfae67",
   "metadata": {
    "papermill": {
     "duration": 0.0182,
     "end_time": "2024-02-01T15:08:10.647583",
     "exception": false,
     "start_time": "2024-02-01T15:08:10.629383",
     "status": "completed"
    },
    "tags": []
   },
   "source": [
    "### Asumsi Normalitas\n",
    "\n",
    "Tujuan : untuk mengetahui apakah residual data berdistribusi normal atau tidak. <br>\n",
    "H0 : residual berdistribusi normal <br>\n",
    "H1 : residual tidak berdistribusi normal\n",
    "\n",
    "dengan α = 0.05 <br>\n",
    "tolak H0 jika p-value < α"
   ]
  },
  {
   "cell_type": "code",
   "execution_count": 13,
   "id": "7c3f401c",
   "metadata": {
    "execution": {
     "iopub.execute_input": "2024-02-01T15:08:10.686760Z",
     "iopub.status.busy": "2024-02-01T15:08:10.685751Z",
     "iopub.status.idle": "2024-02-01T15:08:10.695462Z",
     "shell.execute_reply": "2024-02-01T15:08:10.694024Z"
    },
    "papermill": {
     "duration": 0.031936,
     "end_time": "2024-02-01T15:08:10.697916",
     "exception": false,
     "start_time": "2024-02-01T15:08:10.665980",
     "status": "completed"
    },
    "tags": []
   },
   "outputs": [
    {
     "name": "stdout",
     "output_type": "stream",
     "text": [
      "nilai statistic sebesar: 0.9763\n",
      "nilai pvalue sebesar: 0.5884\n"
     ]
    }
   ],
   "source": [
    "residuals = model.resid\n",
    "statistic, pvalue = shapiro(residuals)\n",
    "print('nilai statistic sebesar: {:.4f}'.format(statistic))\n",
    "print('nilai pvalue sebesar: {:.4f}'.format(pvalue))"
   ]
  },
  {
   "cell_type": "markdown",
   "id": "ac1751b8",
   "metadata": {
    "papermill": {
     "duration": 0.019872,
     "end_time": "2024-02-01T15:08:10.736368",
     "exception": false,
     "start_time": "2024-02-01T15:08:10.716496",
     "status": "completed"
    },
    "tags": []
   },
   "source": [
    "diperoleh nilai p-value sebesar 0.5884 > 0.05. \n",
    "\n",
    "Artinya, pada taraf signifikansi 5%, H0 gagal ditolak sehingga residual data berdistribusi normal (asumsi normalitas terpenuhi)."
   ]
  },
  {
   "cell_type": "markdown",
   "id": "dc76e522",
   "metadata": {
    "papermill": {
     "duration": 0.018313,
     "end_time": "2024-02-01T15:08:10.773833",
     "exception": false,
     "start_time": "2024-02-01T15:08:10.755520",
     "status": "completed"
    },
    "tags": []
   },
   "source": [
    "## Asumsi Homoskedastisitas\n",
    "\n",
    "Tujuan : untuk mengetahui apakah varian dari residual konstan atau tidak. <br>\n",
    "H0 : varian dari residual konstan <br>\n",
    "H1 : varian dari residual tidak konstan.\n",
    "\n",
    "dengan α = 0.05 <br>\n",
    "tolak H0 jika p-value < α"
   ]
  },
  {
   "cell_type": "code",
   "execution_count": 14,
   "id": "fd83b407",
   "metadata": {
    "execution": {
     "iopub.execute_input": "2024-02-01T15:08:10.815758Z",
     "iopub.status.busy": "2024-02-01T15:08:10.814382Z",
     "iopub.status.idle": "2024-02-01T15:08:10.826238Z",
     "shell.execute_reply": "2024-02-01T15:08:10.824990Z"
    },
    "papermill": {
     "duration": 0.03683,
     "end_time": "2024-02-01T15:08:10.829206",
     "exception": false,
     "start_time": "2024-02-01T15:08:10.792376",
     "status": "completed"
    },
    "tags": []
   },
   "outputs": [
    {
     "name": "stdout",
     "output_type": "stream",
     "text": [
      "nilai breusch-pagan sebesar: 4.5630\n",
      "nilai pvalue sebesar: 0.1021\n"
     ]
    }
   ],
   "source": [
    "BP, pvalue, _, _ = het_breuschpagan(residuals, X)\n",
    "print('nilai breusch-pagan sebesar: {:.4f}'.format(BP))\n",
    "print('nilai pvalue sebesar: {:.4f}'.format(pvalue))"
   ]
  },
  {
   "cell_type": "markdown",
   "id": "5df12420",
   "metadata": {
    "papermill": {
     "duration": 0.019208,
     "end_time": "2024-02-01T15:08:10.867959",
     "exception": false,
     "start_time": "2024-02-01T15:08:10.848751",
     "status": "completed"
    },
    "tags": []
   },
   "source": [
    "diperoleh nilai p-value sebesar 0.1021 > 0.05. \n",
    "\n",
    "Artinya, pada taraf signifikansi 5%, H0 gagal ditolak sehingga varian dari residual model konstan (asumsi homoskedastisitas terpenuhi)."
   ]
  },
  {
   "cell_type": "markdown",
   "id": "90c8188a",
   "metadata": {
    "papermill": {
     "duration": 0.020704,
     "end_time": "2024-02-01T15:08:10.910034",
     "exception": false,
     "start_time": "2024-02-01T15:08:10.889330",
     "status": "completed"
    },
    "tags": []
   },
   "source": [
    "## Asumsi Non-Autokorelasi\n",
    "\n",
    "Metode pengujian yang sering digunakan adalah dengan uji Durbin-Watson (uji DW) \n",
    "\n",
    "dengan hipotesis yang digunakan adalah <br>\n",
    "H0 : Tidak ada autokorelasi antar residual amatan dan <br>\n",
    "H1 : Ada autokorelasi antar residual amatan. Adapun kriteria uji yang digunakan adalah sebagai berikut.\n",
    "- Jika 0 < d < dL maka terdapat autokorelasi positif\n",
    "- Jika dL < d < dU maka pengujian tidak meyakinkan atau tidak ada kesimpulan yang pasti\n",
    "- Jika dU < d < 4 - dU maka tidak terdapat autokorelasi\n",
    "- Jika 4 - dU < d < 4 - dL maka pengujian tidak meyakinkan atau tidak ada kesimpulan yang pasti\n",
    "- Jika 4 – dL < d < 4 maka terdapat autokorelasi negatif\n",
    "\n",
    "dengan α = 0.05 <br>\n",
    "tolak H0 jika p-value < α\n",
    "\n",
    "Diperoleh nilai DU dan DL dari tabel berikut : <br>\n",
    "http://repository.unpkediri.ac.id/5725/9/RAMA_61201_18102020014_0706108902_0728068702_07_lamp.pdf\n",
    "\n",
    "dengan α = 5%, n = 38, k = 3 <br>\n",
    "DU : 1.6563 <br>\n",
    "DL : 1.3177"
   ]
  },
  {
   "cell_type": "code",
   "execution_count": 15,
   "id": "2114e256",
   "metadata": {
    "execution": {
     "iopub.execute_input": "2024-02-01T15:08:10.950819Z",
     "iopub.status.busy": "2024-02-01T15:08:10.950369Z",
     "iopub.status.idle": "2024-02-01T15:08:10.960710Z",
     "shell.execute_reply": "2024-02-01T15:08:10.958979Z"
    },
    "papermill": {
     "duration": 0.034367,
     "end_time": "2024-02-01T15:08:10.963649",
     "exception": false,
     "start_time": "2024-02-01T15:08:10.929282",
     "status": "completed"
    },
    "tags": []
   },
   "outputs": [
    {
     "name": "stdout",
     "output_type": "stream",
     "text": [
      "nilai DU : 1.6563\n",
      "nilai DL : 1.3177\n",
      "nilai Durbin-Watson : 1.8878\n",
      "\n",
      "kesimpulan :\n",
      "DU < d < 4-DU, tidak terdapat autokorelasi\n"
     ]
    }
   ],
   "source": [
    "DU = 1.6563\n",
    "DL = 1.3177\n",
    "\n",
    "d = durbin_watson(residuals)\n",
    "\n",
    "print('nilai DU : {:.4f}'.format(DU))\n",
    "print('nilai DL : {:.4f}'.format(DL))\n",
    "print('nilai Durbin-Watson : {:.4f}'.format(d))\n",
    "print('\\nkesimpulan :')\n",
    "\n",
    "if d < DL :\n",
    "    print('0 < d < DL, terdapat autokorelasi positif')\n",
    "elif d < DU :\n",
    "    print('DL < d < DU, pengujian tidak meyakinkan atau tidak ada kesimpulan yang pasti')\n",
    "elif d < (4-DU) :\n",
    "    print('DU < d < 4-DU, tidak terdapat autokorelasi')\n",
    "elif d < (4 - DL) :\n",
    "    print('4-DU < d < 4-DL, pengujian tidak meyakinkan atau tidak ada kesimpulan yang pasti')\n",
    "else :\n",
    "    print('4-DL < d < 4, terdapat autokorelasi negatif')"
   ]
  },
  {
   "cell_type": "markdown",
   "id": "54a89c72",
   "metadata": {
    "papermill": {
     "duration": 0.02154,
     "end_time": "2024-02-01T15:08:11.005495",
     "exception": false,
     "start_time": "2024-02-01T15:08:10.983955",
     "status": "completed"
    },
    "tags": []
   },
   "source": [
    "## Asumsi Non-Multikolinearitas\n",
    "\n",
    "Pengecekan multikolinieritas pada model akan dilakukan dengan menghitung nilai VIF dari kedua variabel independen. Jika nilai VIF < 10, maka asumsi non-multikolinieritas terpenuhi."
   ]
  },
  {
   "cell_type": "code",
   "execution_count": 16,
   "id": "2f718d55",
   "metadata": {
    "execution": {
     "iopub.execute_input": "2024-02-01T15:08:11.047402Z",
     "iopub.status.busy": "2024-02-01T15:08:11.046955Z",
     "iopub.status.idle": "2024-02-01T15:08:11.059709Z",
     "shell.execute_reply": "2024-02-01T15:08:11.058020Z"
    },
    "papermill": {
     "duration": 0.037041,
     "end_time": "2024-02-01T15:08:11.062921",
     "exception": false,
     "start_time": "2024-02-01T15:08:11.025880",
     "status": "completed"
    },
    "tags": []
   },
   "outputs": [
    {
     "name": "stdout",
     "output_type": "stream",
     "text": [
      "constant : 841.447\n",
      "IPM      : 1.114\n",
      "TPAK     : 1.114\n"
     ]
    }
   ],
   "source": [
    "VIF = [variance_inflation_factor(X, i) for i in range(X.shape[1])]\n",
    "print('constant :', round(VIF[0], 3))\n",
    "print('IPM      :', round(VIF[1], 3))\n",
    "print('TPAK     :', round(VIF[2], 3))"
   ]
  },
  {
   "cell_type": "markdown",
   "id": "b8ba806f",
   "metadata": {
    "papermill": {
     "duration": 0.019986,
     "end_time": "2024-02-01T15:08:11.102472",
     "exception": false,
     "start_time": "2024-02-01T15:08:11.082486",
     "status": "completed"
    },
    "tags": []
   },
   "source": [
    "diperoleh nilai VIF untuk semua variabel < 10. <br>\n",
    "Artinya, tidak ada hubungan antar variabel independen dalam model (asumsi non-multikolinearitas terpenuhi)."
   ]
  },
  {
   "cell_type": "markdown",
   "id": "7d441713",
   "metadata": {
    "papermill": {
     "duration": 0.021354,
     "end_time": "2024-02-01T15:08:11.142719",
     "exception": false,
     "start_time": "2024-02-01T15:08:11.121365",
     "status": "completed"
    },
    "tags": []
   },
   "source": [
    "## Kesimpulan Uji Asumsi\n",
    "\n",
    "Dari pengujian keempat asumsi, diperoleh hasil bahwa semua asumsi telah terpenuhi sehingga tahap selanjutnya akan dilanjutkan dengan pembentukan model dan pengujian signifikansi parameter untuk mengetahui ada tidaknya pengaruh Indeks Pembangunan Manusia dan Tingkat Partisipasi Angkatan Kerja terhadap Jumlah Penduduk Miskin di Jawa Timur."
   ]
  },
  {
   "cell_type": "markdown",
   "id": "a253536c",
   "metadata": {
    "papermill": {
     "duration": 0.01932,
     "end_time": "2024-02-01T15:08:11.181085",
     "exception": false,
     "start_time": "2024-02-01T15:08:11.161765",
     "status": "completed"
    },
    "tags": []
   },
   "source": [
    "# Estimasi Model"
   ]
  },
  {
   "cell_type": "code",
   "execution_count": 17,
   "id": "544d7106",
   "metadata": {
    "execution": {
     "iopub.execute_input": "2024-02-01T15:08:11.222808Z",
     "iopub.status.busy": "2024-02-01T15:08:11.222331Z",
     "iopub.status.idle": "2024-02-01T15:08:11.259493Z",
     "shell.execute_reply": "2024-02-01T15:08:11.258528Z"
    },
    "papermill": {
     "duration": 0.06064,
     "end_time": "2024-02-01T15:08:11.262132",
     "exception": false,
     "start_time": "2024-02-01T15:08:11.201492",
     "status": "completed"
    },
    "tags": []
   },
   "outputs": [
    {
     "data": {
      "text/html": [
       "<table class=\"simpletable\">\n",
       "<caption>OLS Regression Results</caption>\n",
       "<tr>\n",
       "  <th>Dep. Variable:</th>            <td>y</td>        <th>  R-squared:         </th> <td>   0.463</td>\n",
       "</tr>\n",
       "<tr>\n",
       "  <th>Model:</th>                   <td>OLS</td>       <th>  Adj. R-squared:    </th> <td>   0.433</td>\n",
       "</tr>\n",
       "<tr>\n",
       "  <th>Method:</th>             <td>Least Squares</td>  <th>  F-statistic:       </th> <td>   15.12</td>\n",
       "</tr>\n",
       "<tr>\n",
       "  <th>Date:</th>             <td>Thu, 01 Feb 2024</td> <th>  Prob (F-statistic):</th> <td>1.85e-05</td>\n",
       "</tr>\n",
       "<tr>\n",
       "  <th>Time:</th>                 <td>15:08:11</td>     <th>  Log-Likelihood:    </th> <td> -469.40</td>\n",
       "</tr>\n",
       "<tr>\n",
       "  <th>No. Observations:</th>      <td>    38</td>      <th>  AIC:               </th> <td>   944.8</td>\n",
       "</tr>\n",
       "<tr>\n",
       "  <th>Df Residuals:</th>          <td>    35</td>      <th>  BIC:               </th> <td>   949.7</td>\n",
       "</tr>\n",
       "<tr>\n",
       "  <th>Df Model:</th>              <td>     2</td>      <th>                     </th>     <td> </td>   \n",
       "</tr>\n",
       "<tr>\n",
       "  <th>Covariance Type:</th>      <td>nonrobust</td>    <th>                     </th>     <td> </td>   \n",
       "</tr>\n",
       "</table>\n",
       "<table class=\"simpletable\">\n",
       "<tr>\n",
       "    <td></td>       <th>coef</th>     <th>std err</th>      <th>t</th>      <th>P>|t|</th>  <th>[0.025</th>    <th>0.975]</th>  \n",
       "</tr>\n",
       "<tr>\n",
       "  <th>const</th> <td> 1.281e+06</td> <td> 2.75e+05</td> <td>    4.662</td> <td> 0.000</td> <td> 7.23e+05</td> <td> 1.84e+06</td>\n",
       "</tr>\n",
       "<tr>\n",
       "  <th>x1</th>    <td>-1.027e+04</td> <td> 1874.133</td> <td>   -5.480</td> <td> 0.000</td> <td>-1.41e+04</td> <td>-6465.583</td>\n",
       "</tr>\n",
       "<tr>\n",
       "  <th>x2</th>    <td>-6519.5877</td> <td> 2991.075</td> <td>   -2.180</td> <td> 0.036</td> <td>-1.26e+04</td> <td> -447.383</td>\n",
       "</tr>\n",
       "</table>\n",
       "<table class=\"simpletable\">\n",
       "<tr>\n",
       "  <th>Omnibus:</th>       <td> 1.285</td> <th>  Durbin-Watson:     </th> <td>   1.888</td>\n",
       "</tr>\n",
       "<tr>\n",
       "  <th>Prob(Omnibus):</th> <td> 0.526</td> <th>  Jarque-Bera (JB):  </th> <td>   0.946</td>\n",
       "</tr>\n",
       "<tr>\n",
       "  <th>Skew:</th>          <td> 0.384</td> <th>  Prob(JB):          </th> <td>   0.623</td>\n",
       "</tr>\n",
       "<tr>\n",
       "  <th>Kurtosis:</th>      <td> 2.915</td> <th>  Cond. No.          </th> <td>2.82e+03</td>\n",
       "</tr>\n",
       "</table><br/><br/>Notes:<br/>[1] Standard Errors assume that the covariance matrix of the errors is correctly specified.<br/>[2] The condition number is large, 2.82e+03. This might indicate that there are<br/>strong multicollinearity or other numerical problems."
      ],
      "text/latex": [
       "\\begin{center}\n",
       "\\begin{tabular}{lclc}\n",
       "\\toprule\n",
       "\\textbf{Dep. Variable:}    &        y         & \\textbf{  R-squared:         } &     0.463   \\\\\n",
       "\\textbf{Model:}            &       OLS        & \\textbf{  Adj. R-squared:    } &     0.433   \\\\\n",
       "\\textbf{Method:}           &  Least Squares   & \\textbf{  F-statistic:       } &     15.12   \\\\\n",
       "\\textbf{Date:}             & Thu, 01 Feb 2024 & \\textbf{  Prob (F-statistic):} &  1.85e-05   \\\\\n",
       "\\textbf{Time:}             &     15:08:11     & \\textbf{  Log-Likelihood:    } &   -469.40   \\\\\n",
       "\\textbf{No. Observations:} &          38      & \\textbf{  AIC:               } &     944.8   \\\\\n",
       "\\textbf{Df Residuals:}     &          35      & \\textbf{  BIC:               } &     949.7   \\\\\n",
       "\\textbf{Df Model:}         &           2      & \\textbf{                     } &             \\\\\n",
       "\\textbf{Covariance Type:}  &    nonrobust     & \\textbf{                     } &             \\\\\n",
       "\\bottomrule\n",
       "\\end{tabular}\n",
       "\\begin{tabular}{lcccccc}\n",
       "               & \\textbf{coef} & \\textbf{std err} & \\textbf{t} & \\textbf{P$> |$t$|$} & \\textbf{[0.025} & \\textbf{0.975]}  \\\\\n",
       "\\midrule\n",
       "\\textbf{const} &    1.281e+06  &     2.75e+05     &     4.662  &         0.000        &     7.23e+05    &     1.84e+06     \\\\\n",
       "\\textbf{x1}    &   -1.027e+04  &     1874.133     &    -5.480  &         0.000        &    -1.41e+04    &    -6465.583     \\\\\n",
       "\\textbf{x2}    &   -6519.5877  &     2991.075     &    -2.180  &         0.036        &    -1.26e+04    &     -447.383     \\\\\n",
       "\\bottomrule\n",
       "\\end{tabular}\n",
       "\\begin{tabular}{lclc}\n",
       "\\textbf{Omnibus:}       &  1.285 & \\textbf{  Durbin-Watson:     } &    1.888  \\\\\n",
       "\\textbf{Prob(Omnibus):} &  0.526 & \\textbf{  Jarque-Bera (JB):  } &    0.946  \\\\\n",
       "\\textbf{Skew:}          &  0.384 & \\textbf{  Prob(JB):          } &    0.623  \\\\\n",
       "\\textbf{Kurtosis:}      &  2.915 & \\textbf{  Cond. No.          } & 2.82e+03  \\\\\n",
       "\\bottomrule\n",
       "\\end{tabular}\n",
       "%\\caption{OLS Regression Results}\n",
       "\\end{center}\n",
       "\n",
       "Notes: \\newline\n",
       " [1] Standard Errors assume that the covariance matrix of the errors is correctly specified. \\newline\n",
       " [2] The condition number is large, 2.82e+03. This might indicate that there are \\newline\n",
       " strong multicollinearity or other numerical problems."
      ],
      "text/plain": [
       "<class 'statsmodels.iolib.summary.Summary'>\n",
       "\"\"\"\n",
       "                            OLS Regression Results                            \n",
       "==============================================================================\n",
       "Dep. Variable:                      y   R-squared:                       0.463\n",
       "Model:                            OLS   Adj. R-squared:                  0.433\n",
       "Method:                 Least Squares   F-statistic:                     15.12\n",
       "Date:                Thu, 01 Feb 2024   Prob (F-statistic):           1.85e-05\n",
       "Time:                        15:08:11   Log-Likelihood:                -469.40\n",
       "No. Observations:                  38   AIC:                             944.8\n",
       "Df Residuals:                      35   BIC:                             949.7\n",
       "Df Model:                           2                                         \n",
       "Covariance Type:            nonrobust                                         \n",
       "==============================================================================\n",
       "                 coef    std err          t      P>|t|      [0.025      0.975]\n",
       "------------------------------------------------------------------------------\n",
       "const       1.281e+06   2.75e+05      4.662      0.000    7.23e+05    1.84e+06\n",
       "x1         -1.027e+04   1874.133     -5.480      0.000   -1.41e+04   -6465.583\n",
       "x2         -6519.5877   2991.075     -2.180      0.036   -1.26e+04    -447.383\n",
       "==============================================================================\n",
       "Omnibus:                        1.285   Durbin-Watson:                   1.888\n",
       "Prob(Omnibus):                  0.526   Jarque-Bera (JB):                0.946\n",
       "Skew:                           0.384   Prob(JB):                        0.623\n",
       "Kurtosis:                       2.915   Cond. No.                     2.82e+03\n",
       "==============================================================================\n",
       "\n",
       "Notes:\n",
       "[1] Standard Errors assume that the covariance matrix of the errors is correctly specified.\n",
       "[2] The condition number is large, 2.82e+03. This might indicate that there are\n",
       "strong multicollinearity or other numerical problems.\n",
       "\"\"\""
      ]
     },
     "execution_count": 17,
     "metadata": {},
     "output_type": "execute_result"
    }
   ],
   "source": [
    "model.summary()"
   ]
  },
  {
   "cell_type": "markdown",
   "id": "19dac9b1",
   "metadata": {
    "papermill": {
     "duration": 0.020798,
     "end_time": "2024-02-01T15:08:11.302478",
     "exception": false,
     "start_time": "2024-02-01T15:08:11.281680",
     "status": "completed"
    },
    "tags": []
   },
   "source": [
    "Koefisien regresi untuk masing-masing variabel dapat dilihat pada kolom 'coef' atau 'model dan diperoleh model sebagai berikut."
   ]
  },
  {
   "cell_type": "code",
   "execution_count": 18,
   "id": "1759706b",
   "metadata": {
    "execution": {
     "iopub.execute_input": "2024-02-01T15:08:11.347187Z",
     "iopub.status.busy": "2024-02-01T15:08:11.346741Z",
     "iopub.status.idle": "2024-02-01T15:08:11.355624Z",
     "shell.execute_reply": "2024-02-01T15:08:11.353724Z"
    },
    "papermill": {
     "duration": 0.034174,
     "end_time": "2024-02-01T15:08:11.359078",
     "exception": false,
     "start_time": "2024-02-01T15:08:11.324904",
     "status": "completed"
    },
    "tags": []
   },
   "outputs": [
    {
     "name": "stdout",
     "output_type": "stream",
     "text": [
      "model :\n",
      "JPM_hat = 1,280,961 - 10,270IPM - 6,520TPAK\n"
     ]
    }
   ],
   "source": [
    "const = model.params[0]\n",
    "IPM = model.params[1]\n",
    "TPAK = model.params[2]\n",
    "\n",
    "print('model :')\n",
    "print('JPM_hat = {:,.0f} {} {:,.0f}IPM {} {:,.0f}TPAK'.format(const, sign(TPAK), abs(IPM), sign(TPAK), abs(TPAK)))"
   ]
  },
  {
   "cell_type": "markdown",
   "id": "e88c50ca",
   "metadata": {
    "papermill": {
     "duration": 0.020934,
     "end_time": "2024-02-01T15:08:11.401968",
     "exception": false,
     "start_time": "2024-02-01T15:08:11.381034",
     "status": "completed"
    },
    "tags": []
   },
   "source": [
    "dari model dapat ditarik kesimpulan :\n",
    "- Jika semua variabel independen bernilai 0, maka Jumlah Penduduk Miskin akan bernilai sebesar 1,280,961 jiwa.\n",
    "- Jika Indeks Pembangunan Manusia (IPM) naik 1 persen, maka Jumlah Penduduk Miskin akan turun sebesar 10,270 jiwa dengan asumsi variabel independen lainnya bernilai tetap.\n",
    "- Jika Tingkat Partisipasi Angkatan Kerja (TPAK) naik 1 persen, maka Jumlah Penduduk Miskin akan turun sebesar 6,520 jiwa dengan asumsi variabel independen lainnya bernilai tetap"
   ]
  },
  {
   "cell_type": "markdown",
   "id": "0cbcccae",
   "metadata": {
    "papermill": {
     "duration": 0.021067,
     "end_time": "2024-02-01T15:08:11.444644",
     "exception": false,
     "start_time": "2024-02-01T15:08:11.423577",
     "status": "completed"
    },
    "tags": []
   },
   "source": [
    "# Uji Signifikansi"
   ]
  },
  {
   "cell_type": "markdown",
   "id": "cc914dc1",
   "metadata": {
    "papermill": {
     "duration": 0.020409,
     "end_time": "2024-02-01T15:08:11.487932",
     "exception": false,
     "start_time": "2024-02-01T15:08:11.467523",
     "status": "completed"
    },
    "tags": []
   },
   "source": [
    "## Uji-F\n",
    "\n",
    "H0: Tidak ada pengaruh variabel independen terhadap variabel dependen\n",
    "secara bersama-sama (model tidak cocok/signifikan) <br>\n",
    "H1: Ada pengaruh variabel independen terhadap variabel dependen secara\n",
    "bersama-sama (model cocok/signifikan)\n",
    "\n",
    "dengan α = 0.05 <br>\n",
    "tolak H0 jika p-value < α"
   ]
  },
  {
   "cell_type": "code",
   "execution_count": 19,
   "id": "3ed6f32a",
   "metadata": {
    "execution": {
     "iopub.execute_input": "2024-02-01T15:08:11.533971Z",
     "iopub.status.busy": "2024-02-01T15:08:11.533493Z",
     "iopub.status.idle": "2024-02-01T15:08:11.539813Z",
     "shell.execute_reply": "2024-02-01T15:08:11.538901Z"
    },
    "papermill": {
     "duration": 0.032704,
     "end_time": "2024-02-01T15:08:11.542301",
     "exception": false,
     "start_time": "2024-02-01T15:08:11.509597",
     "status": "completed"
    },
    "tags": []
   },
   "outputs": [
    {
     "name": "stdout",
     "output_type": "stream",
     "text": [
      "nilai p-value dari F-statistic : 0.000\n",
      "nilai F-statistic : 15.117\n"
     ]
    }
   ],
   "source": [
    "print('nilai p-value dari F-statistic : {:.3f}'.format(model.f_pvalue))\n",
    "print('nilai F-statistic : {:.3f}'.format(model.fvalue))"
   ]
  },
  {
   "cell_type": "markdown",
   "id": "469db401",
   "metadata": {
    "papermill": {
     "duration": 0.021472,
     "end_time": "2024-02-01T15:08:11.587222",
     "exception": false,
     "start_time": "2024-02-01T15:08:11.565750",
     "status": "completed"
    },
    "tags": []
   },
   "source": [
    "Dari output di atas diperoleh nilai p-value sebesar 0.000 < 0.05. Artinya, pada taraf signifikansi 5%, H0 ditolak sehingga model signifikan. Atau dapat diartikan bahwa ada pengaruh variabel independen terhadap variabel dependen secara bersama-sama."
   ]
  },
  {
   "cell_type": "markdown",
   "id": "00072c38",
   "metadata": {
    "papermill": {
     "duration": 0.02016,
     "end_time": "2024-02-01T15:08:11.627232",
     "exception": false,
     "start_time": "2024-02-01T15:08:11.607072",
     "status": "completed"
    },
    "tags": []
   },
   "source": [
    "## Uji-t\n",
    "\n",
    "tujuan : untuk mengetahui variabel independen yang signifikan berpengaruh terhadap Jumlah Penduduk Miskin.\n",
    "\n",
    "H0: variabel independen tidak berpengaruh signifikan terhadap variabel\n",
    "dependen <br>\n",
    "H1: variabel independen berpengaruh signifikan terhadap variabel dependen\n",
    "\n",
    "dengan α = 0.05 <br>\n",
    "tolak H0 jika p-value < α"
   ]
  },
  {
   "cell_type": "code",
   "execution_count": 20,
   "id": "ae593e9f",
   "metadata": {
    "execution": {
     "iopub.execute_input": "2024-02-01T15:08:11.672003Z",
     "iopub.status.busy": "2024-02-01T15:08:11.671546Z",
     "iopub.status.idle": "2024-02-01T15:08:11.687109Z",
     "shell.execute_reply": "2024-02-01T15:08:11.685170Z"
    },
    "papermill": {
     "duration": 0.041231,
     "end_time": "2024-02-01T15:08:11.689954",
     "exception": false,
     "start_time": "2024-02-01T15:08:11.648723",
     "status": "completed"
    },
    "tags": []
   },
   "outputs": [
    {
     "data": {
      "text/html": [
       "<div>\n",
       "<style scoped>\n",
       "    .dataframe tbody tr th:only-of-type {\n",
       "        vertical-align: middle;\n",
       "    }\n",
       "\n",
       "    .dataframe tbody tr th {\n",
       "        vertical-align: top;\n",
       "    }\n",
       "\n",
       "    .dataframe thead th {\n",
       "        text-align: right;\n",
       "    }\n",
       "</style>\n",
       "<table border=\"1\" class=\"dataframe\">\n",
       "  <thead>\n",
       "    <tr style=\"text-align: right;\">\n",
       "      <th></th>\n",
       "      <th>t-stat</th>\n",
       "      <th>p-value</th>\n",
       "      <th>result</th>\n",
       "    </tr>\n",
       "  </thead>\n",
       "  <tbody>\n",
       "    <tr>\n",
       "      <th>const</th>\n",
       "      <td>4.662416698293238</td>\n",
       "      <td>4.42837783514149e-05</td>\n",
       "      <td>0.000 &lt; 0.05, H0 ditolak</td>\n",
       "    </tr>\n",
       "    <tr>\n",
       "      <th>IPM</th>\n",
       "      <td>-5.480013619585639</td>\n",
       "      <td>3.7448115439164903e-06</td>\n",
       "      <td>0.000 &lt; 0.05, H0 ditolak</td>\n",
       "    </tr>\n",
       "    <tr>\n",
       "      <th>TPAK</th>\n",
       "      <td>-2.17968066854959</td>\n",
       "      <td>0.0360964638105075</td>\n",
       "      <td>0.036 &lt; 0.05, H0 ditolak</td>\n",
       "    </tr>\n",
       "  </tbody>\n",
       "</table>\n",
       "</div>"
      ],
      "text/plain": [
       "                   t-stat                 p-value                    result\n",
       "const   4.662416698293238    4.42837783514149e-05  0.000 < 0.05, H0 ditolak\n",
       "IPM    -5.480013619585639  3.7448115439164903e-06  0.000 < 0.05, H0 ditolak\n",
       "TPAK    -2.17968066854959      0.0360964638105075  0.036 < 0.05, H0 ditolak"
      ]
     },
     "execution_count": 20,
     "metadata": {},
     "output_type": "execute_result"
    }
   ],
   "source": [
    "result = [compare(i, 0.05) for i in model.pvalues]\n",
    "array = np.array([(model.tvalues), model.pvalues, result]).T\n",
    "pd.DataFrame(array, index=['const', 'IPM', 'TPAK'], columns=['t-stat', 'p-value', 'result'])"
   ]
  },
  {
   "cell_type": "markdown",
   "id": "b45915b9",
   "metadata": {
    "papermill": {
     "duration": 0.02184,
     "end_time": "2024-02-01T15:08:11.733899",
     "exception": false,
     "start_time": "2024-02-01T15:08:11.712059",
     "status": "completed"
    },
    "tags": []
   },
   "source": [
    "Berdasarkan kolom result di atas dapat ditarik kesimpulan:\n",
    "- Indeks Pembangunan Manusia memiliki nilai p-value sebesar 0.000 < 0.05. Artinya, pada taraf signifikansi 5%, H0 ditolak sehingga terdapat pengaruh Indeks Pembangunan Manusia terhadap Jumlah Penduduk Miskin. Adapun pengaruh tersebut memiliki arah negatif (-5.48).\n",
    "- Tingkat Partisipasi Angkatan Kerja memiliki nilai p-value sebesar 0.036 < 0.05. Artinya, pada taraf signifikansi 5%, H0 ditolak sehingga terdapat pengaruh Tingkat Partisipasi Angkatan Kerja terhadap Jumlah Penduduk Miskin. Adapun pengaruh tersebut juga memiliki arah negatif (-2.18)."
   ]
  },
  {
   "cell_type": "markdown",
   "id": "369f7c12",
   "metadata": {
    "papermill": {
     "duration": 0.021069,
     "end_time": "2024-02-01T15:08:11.776192",
     "exception": false,
     "start_time": "2024-02-01T15:08:11.755123",
     "status": "completed"
    },
    "tags": []
   },
   "source": [
    "# Koefisien Determinasi"
   ]
  },
  {
   "cell_type": "code",
   "execution_count": 21,
   "id": "8a7c5c40",
   "metadata": {
    "execution": {
     "iopub.execute_input": "2024-02-01T15:08:11.823485Z",
     "iopub.status.busy": "2024-02-01T15:08:11.823040Z",
     "iopub.status.idle": "2024-02-01T15:08:11.828706Z",
     "shell.execute_reply": "2024-02-01T15:08:11.827785Z"
    },
    "papermill": {
     "duration": 0.033303,
     "end_time": "2024-02-01T15:08:11.831873",
     "exception": false,
     "start_time": "2024-02-01T15:08:11.798570",
     "status": "completed"
    },
    "tags": []
   },
   "outputs": [
    {
     "name": "stdout",
     "output_type": "stream",
     "text": [
      "nilai Adjusted R-Squared : 43.28%\n"
     ]
    }
   ],
   "source": [
    "print('nilai Adjusted R-Squared : {:.2%}'.format(model.rsquared_adj))"
   ]
  },
  {
   "cell_type": "markdown",
   "id": "cb175b24",
   "metadata": {
    "papermill": {
     "duration": 0.022247,
     "end_time": "2024-02-01T15:08:11.875038",
     "exception": false,
     "start_time": "2024-02-01T15:08:11.852791",
     "status": "completed"
    },
    "tags": []
   },
   "source": [
    "Nilai koefisien determinasi yang diperoleh sebesar 0.4328 (Adjusted R-Squared). Artinya, Jumlah Penduduk Miskin dipengaruhi oleh semua variabel independen dalam penelitian sebesar 43.28% dan sisanya 56.72% dipengaruhi oleh faktor lain di luar penelitian."
   ]
  }
 ],
 "metadata": {
  "kaggle": {
   "accelerator": "none",
   "dataSources": [
    {
     "datasetId": 4371065,
     "sourceId": 7505824,
     "sourceType": "datasetVersion"
    }
   ],
   "dockerImageVersionId": 30635,
   "isGpuEnabled": false,
   "isInternetEnabled": true,
   "language": "python",
   "sourceType": "notebook"
  },
  "kernelspec": {
   "display_name": "Python 3",
   "language": "python",
   "name": "python3"
  },
  "language_info": {
   "codemirror_mode": {
    "name": "ipython",
    "version": 3
   },
   "file_extension": ".py",
   "mimetype": "text/x-python",
   "name": "python",
   "nbconvert_exporter": "python",
   "pygments_lexer": "ipython3",
   "version": "3.10.12"
  },
  "papermill": {
   "default_parameters": {},
   "duration": 19.372032,
   "end_time": "2024-02-01T15:08:12.825519",
   "environment_variables": {},
   "exception": null,
   "input_path": "__notebook__.ipynb",
   "output_path": "__notebook__.ipynb",
   "parameters": {},
   "start_time": "2024-02-01T15:07:53.453487",
   "version": "2.4.0"
  }
 },
 "nbformat": 4,
 "nbformat_minor": 5
}
